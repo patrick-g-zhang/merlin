{
 "cells": [
  {
   "cell_type": "code",
   "execution_count": 1,
   "metadata": {
    "collapsed": true
   },
   "outputs": [],
   "source": [
    "import pickle\n",
    "import gzip\n",
    "import os, sys, errno\n",
    "sys.path.insert(0, '../configuration')\n",
    "sys.path.insert(0, '../utils')\n",
    "sys.path.insert(0,\"../io_funcs\")\n",
    "from binary_io import BinaryIOCollection\n",
    "from configuration import configuration\n",
    "from utils import read_file_list, prepare_file_path_list\n",
    "import time\n",
    "import math\n",
    "\n",
    "import subprocess\n",
    "import logging\n",
    "import numpy\n",
    "#import gnumpy as gnp\n",
    "# we need to explicitly import this in some cases, not sure why this doesn't get imported with numpy itself\n",
    "import numpy.distutils.__config__\n",
    "# and only after that can we import theano\n",
    "import pdb"
   ]
  },
  {
   "cell_type": "code",
   "execution_count": 3,
   "metadata": {},
   "outputs": [
    {
     "name": "stderr",
     "output_type": "stream",
     "text": [
      "usage: run_merlin.sh [config file name]\n"
     ]
    },
    {
     "ename": "SystemExit",
     "evalue": "1",
     "output_type": "error",
     "traceback": [
      "An exception has occurred, use %tb to see the full traceback.\n",
      "\u001b[0;31mSystemExit\u001b[0m\u001b[0;31m:\u001b[0m 1\n"
     ]
    },
    {
     "name": "stderr",
     "output_type": "stream",
     "text": [
      "/home/gyzhang/anaconda3/lib/python3.6/site-packages/IPython/core/interactiveshell.py:2870: UserWarning: To exit: use 'exit', 'quit', or Ctrl-D.\n",
      "  warn(\"To exit: use 'exit', 'quit', or Ctrl-D.\", stacklevel=1)\n"
     ]
    }
   ],
   "source": [
    "cfg = configuration()\n",
    "    # set up logging to use our custom class\n",
    "    # logging.setLoggerClass(LoggerPlotter)\n",
    "    # get a logger for this main function\n",
    "logger = logging.getLogger(\"main\")\n",
    "config_file = \"\"\n",
    "config_file = os.path.abspath(config_file)\n",
    "cfg.configure(config_file,False)\n",
    "file_id_list = read_file_list(cfg.file_id_scp)\n",
    "in_file_list_dict = {}\n",
    "io_funcs = BinaryIOCollection()\n",
    "for feature_name in list(cfg.in_dir_dict.keys()):\n",
    "    in_file_list_dict[feature_name] = prepare_file_path_list(file_id_list, cfg.in_dir_dict[feature_name],\n",
    "                                                             cfg.file_extension_dict[feature_name], False)"
   ]
  },
  {
   "cell_type": "code",
   "execution_count": null,
   "metadata": {
    "collapsed": true
   },
   "outputs": [],
   "source": []
  }
 ],
 "metadata": {
  "kernelspec": {
   "display_name": "Python 3",
   "language": "python",
   "name": "python3"
  },
  "language_info": {
   "codemirror_mode": {
    "name": "ipython",
    "version": 3
   },
   "file_extension": ".py",
   "mimetype": "text/x-python",
   "name": "python",
   "nbconvert_exporter": "python",
   "pygments_lexer": "ipython3",
   "version": "3.6.2"
  }
 },
 "nbformat": 4,
 "nbformat_minor": 1
}
