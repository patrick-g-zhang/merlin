{
 "cells": [
  {
   "cell_type": "code",
   "execution_count": null,
   "metadata": {
    "collapsed": true
   },
   "outputs": [],
   "source": [
    "import pickle\n",
    "import gzip\n",
    "import os, sys, errno\n",
    "sys.path.insert(0, '../configuration')\n",
    "sys.path.insert(0, '../utils')\n",
    "sys.path.insert(0,\"../io_funcs\")\n",
    "sys.path.insert(0,\"../frontend\")\n",
    "from binary_io import BinaryIOCollection\n",
    "from configuration import configuration\n",
    "from utils import read_file_list, prepare_file_path_list\n",
    "import time\n",
    "import math\n",
    "\n",
    "import subprocess\n",
    "import logging\n",
    "import numpy as np\n",
    "#import gnumpy as gnp\n",
    "# we need to explicitly import this in some cases, not sure why this doesn't get imported with numpy itself\n",
    "import numpy.distutils.__config__\n",
    "# and only after that can we import theano\n",
    "import pdb\n",
    "from matplotlib import pyplot as plt"
   ]
  },
  {
   "cell_type": "code",
   "execution_count": 2,
   "metadata": {},
   "outputs": [
    {
     "name": "stderr",
     "output_type": "stream",
     "text": [
      "2019-04-16 23:19:54,526     INFO  configuration:           Paths:work has    user value /home/gyzhang/merlin/egs/blz/s1/experiments/blz3/acoustic_model\n",
      "2019-04-16 23:19:54,528     INFO  configuration:           Paths:data has    user value /home/gyzhang/merlin/egs/blz/s1/experiments/blz3/acoustic_model/data\n",
      "2019-04-16 23:19:54,530     INFO  configuration:     Paths:inter_data has    user value /home/gyzhang/merlin/egs/blz/s1/experiments/blz3/acoustic_model/inter_module\n",
      "2019-04-16 23:19:54,532     INFO  configuration:           Paths:plot has    user value /home/gyzhang/merlin/egs/blz/s1/experiments/blz3/acoustic_model/plots\n",
      "2019-04-16 23:19:54,533     INFO  configuration:       Paths:inp_feat has default value /home/gyzhang/merlin/egs/blz/s1/experiments/blz3/acoustic_model/inter_module/nn_no_silence_lab_norm_425\n",
      "2019-04-16 23:19:54,534     INFO  configuration:       Paths:out_feat has default value /home/gyzhang/merlin/egs/blz/s1/experiments/blz3/acoustic_model/inter_module/nn_norm_mgc_lf0_vuv_bap_187\n",
      "2019-04-16 23:19:54,536     INFO  configuration:         Paths:models has default value /home/gyzhang/merlin/egs/blz/s1/experiments/blz3/acoustic_model/nnets_model\n",
      "2019-04-16 23:19:54,537     INFO  configuration:          Paths:stats has default value /home/gyzhang/merlin/egs/blz/s1/experiments/blz3/acoustic_model/stats\n",
      "2019-04-16 23:19:54,538     INFO  configuration:            Paths:gen has default value /home/gyzhang/merlin/egs/blz/s1/experiments/blz3/acoustic_model/gen\n",
      "2019-04-16 23:19:54,540     INFO  configuration:      Paths:pred_feat has default value /home/gyzhang/merlin/egs/blz/s1/experiments/blz3/acoustic_model/gen\n",
      "2019-04-16 23:19:54,541     INFO  configuration:         Utility:plot has default value False\n",
      "2019-04-16 23:19:54,543     INFO  configuration:      Utility:profile has default value False\n",
      "2019-04-16 23:19:54,544     INFO  configuration:   Paths:file_id_list has    user value /home/gyzhang/merlin/egs/blz/s1/experiments/blz3/acoustic_model/data/file_id_list.scp\n",
      "2019-04-16 23:19:54,546     INFO  configuration:   Paths:test_id_list has    user value /home/gyzhang/merlin/egs/blz/s1/experiments/blz3/acoustic_model/data/test_id_list.scp\n",
      "2019-04-16 23:19:54,547     INFO  configuration:         Paths:GV_dir has default value /home/gyzhang/merlin/egs/blz/s1/experiments/blz3/acoustic_model/data/GV\n",
      "2019-04-16 23:19:54,548     INFO  configuration:   Paths:in_stepw_dir has default value /home/gyzhang/merlin/egs/blz/s1/experiments/blz3/acoustic_model/data/stepw\n",
      "2019-04-16 23:19:54,549     INFO  configuration:     Paths:in_mgc_dir has    user value /home/gyzhang/merlin/egs/blz/s1/experiments/blz3/acoustic_model/data/mgc\n",
      "2019-04-16 23:19:54,551     INFO  configuration:     Paths:in_lf0_dir has    user value /home/gyzhang/merlin/egs/blz/s1/experiments/blz3/acoustic_model/data/lf0\n",
      "2019-04-16 23:19:54,552     INFO  configuration:     Paths:in_bap_dir has    user value /home/gyzhang/merlin/egs/blz/s1/experiments/blz3/acoustic_model/data/bap\n",
      "2019-04-16 23:19:54,553     INFO  configuration:      Paths:in_sp_dir has default value /home/gyzhang/merlin/egs/blz/s1/experiments/blz3/acoustic_model/data/sp\n",
      "2019-04-16 23:19:54,554     INFO  configuration:  Paths:in_seglf0_dir has default value /home/gyzhang/merlin/egs/blz/s1/experiments/blz3/acoustic_model/data/lf03\n",
      "2019-04-16 23:19:54,555     INFO  configuration:      Paths:in_F0_dir has default value /home/gyzhang/merlin/egs/blz/s1/experiments/blz3/acoustic_model/data/F0\n",
      "2019-04-16 23:19:54,557     INFO  configuration:    Paths:in_Gain_dir has default value /home/gyzhang/merlin/egs/blz/s1/experiments/blz3/acoustic_model/data/Gain\n",
      "2019-04-16 23:19:54,558     INFO  configuration:     Paths:in_HNR_dir has default value /home/gyzhang/merlin/egs/blz/s1/experiments/blz3/acoustic_model/data/HNR\n",
      "2019-04-16 23:19:54,559     INFO  configuration:     Paths:in_LSF_dir has default value /home/gyzhang/merlin/egs/blz/s1/experiments/blz3/acoustic_model/data/LSF\n",
      "2019-04-16 23:19:54,560     INFO  configuration: Paths:in_LSFsource_dir has default value /home/gyzhang/merlin/egs/blz/s1/experiments/blz3/acoustic_model/data/LSFsource\n",
      "2019-04-16 23:19:54,561     INFO  configuration:      Paths:in_f0_dir has default value /home/gyzhang/merlin/egs/blz/s1/experiments/blz3/acoustic_model/data/f0\n",
      "2019-04-16 23:19:54,562     INFO  configuration:    Paths:in_gain_dir has default value /home/gyzhang/merlin/egs/blz/s1/experiments/blz3/acoustic_model/data/gain\n",
      "2019-04-16 23:19:54,564     INFO  configuration:     Paths:in_hnr_dir has default value /home/gyzhang/merlin/egs/blz/s1/experiments/blz3/acoustic_model/data/hnr\n",
      "2019-04-16 23:19:54,565     INFO  configuration:     Paths:in_lsf_dir has default value /home/gyzhang/merlin/egs/blz/s1/experiments/blz3/acoustic_model/data/lsf\n",
      "2019-04-16 23:19:54,566     INFO  configuration:    Paths:in_slsf_dir has default value /home/gyzhang/merlin/egs/blz/s1/experiments/blz3/acoustic_model/data/slsf\n",
      "2019-04-16 23:19:54,567     INFO  configuration:     Paths:in_pdd_dir has default value /home/gyzhang/merlin/egs/blz/s1/experiments/blz3/acoustic_model/data/pdd\n",
      "2019-04-16 23:19:54,568     INFO  configuration: Paths:in_acous_feats_dir has default value /home/gyzhang/merlin/egs/blz/s1/experiments/blz3/acoustic_model/data/acoustic_feats\n",
      "2019-04-16 23:19:54,569     INFO  configuration: Input-Output:inp_dim has default value 425\n",
      "2019-04-16 23:19:54,570     INFO  configuration: Input-Output:out_dim has default value 187\n",
      "2019-04-16 23:19:54,572     INFO  configuration: Input-Output:inp_file_ext has default value .lab\n",
      "2019-04-16 23:19:54,573     INFO  configuration: Input-Output:out_file_ext has default value .cmp\n",
      "2019-04-16 23:19:54,574     INFO  configuration: Input-Output:inp_norm has default value MINMAX\n",
      "2019-04-16 23:19:54,575     INFO  configuration: Input-Output:out_norm has default value MINMAX\n",
      "2019-04-16 23:19:54,577     INFO  configuration: Paths:in_seq_dur_dir has default value /home/gyzhang/merlin/egs/blz/s1/experiments/blz3/acoustic_model/data/S2S_dur\n",
      "2019-04-16 23:19:54,578     INFO  configuration:     Paths:in_dur_dir has default value /home/gyzhang/merlin/egs/blz/s1/experiments/blz3/acoustic_model/data/dur\n",
      "2019-04-16 23:19:54,579     INFO  configuration: Paths:nn_norm_temp_dir has default value /home/gyzhang/merlin/egs/blz/s1/experiments/blz3/acoustic_model/data/step_hidden9\n",
      "2019-04-16 23:19:54,581     INFO  configuration: Labels:process_labels_in_work_dir has default value False\n",
      "2019-04-16 23:19:54,582     INFO  configuration:   Labels:label_style has default value HTS\n",
      "2019-04-16 23:19:54,584     INFO  configuration:    Labels:label_type has    user value phone_align\n",
      "2019-04-16 23:19:54,585     INFO  configuration:  Labels:state_number has default value 5\n",
      "2019-04-16 23:19:54,587     INFO  configuration:   Labels:label_align has    user value /home/gyzhang/merlin/egs/blz/s1/experiments/blz3/acoustic_model/data/label_phone_align\n",
      "2019-04-16 23:19:54,588     INFO  configuration: Labels:question_file_name has    user value /home/gyzhang/merlin/misc/questions/blz_190.hed\n",
      "2019-04-16 23:19:54,589     INFO  configuration: Labels:linguistic_file_name has default value /home/gyzhang/merlin/egs/blz/s1/experiments/blz3/acoustic_model/data/hed_feats.txt\n",
      "2019-04-16 23:19:54,590     INFO  configuration: Labels:silence_pattern has    user value ['*-sil+*']\n",
      "2019-04-16 23:19:54,591     INFO  configuration: Labels:subphone_feats has    user value coarse_coding\n",
      "2019-04-16 23:19:54,592     INFO  configuration: Labels:additional_features has default value {}\n",
      "2019-04-16 23:19:54,593     INFO  configuration: Labels:label_align_orig_const_rate has default value /home/gyzhang/merlin/egs/blz/s1/experiments/blz3/acoustic_model/data/label_state_align\n",
      "2019-04-16 23:19:54,594     INFO  configuration: Labels:xpath_file_name has default value /home/gyzhang/merlin/egs/blz/s1/experiments/blz3/acoustic_model/data/xml_labels/xpaths.txt\n",
      "2019-04-16 23:19:54,595     INFO  configuration:  Labels:label_config has default value configuration/examplelabelconfigfile.py\n",
      "2019-04-16 23:19:54,596     INFO  configuration: Labels:add_frame_features has    user value True\n",
      "2019-04-16 23:19:54,597     INFO  configuration: Labels:fill_missing_values has default value False\n"
     ]
    },
    {
     "name": "stderr",
     "output_type": "stream",
     "text": [
      "2019-04-16 23:19:54,598     INFO  configuration: Labels:xpath_label_align has default value /home/gyzhang/merlin/egs/blz/s1/experiments/blz3/acoustic_model/data/label_state_align\n",
      "2019-04-16 23:19:54,599     INFO  configuration: Labels:enforce_silence has    user value False\n",
      "2019-04-16 23:19:54,600     INFO  configuration: Labels:remove_silence_using_binary_labels has default value False\n",
      "2019-04-16 23:19:54,601     INFO  configuration: Labels:remove_silence_using_hts_labels has default value True\n",
      "2019-04-16 23:19:54,602     INFO  configuration: Labels:precompile_xpaths has default value True\n",
      "2019-04-16 23:19:54,603     INFO  configuration: Labels:iterate_over_frames has default value True\n",
      "2019-04-16 23:19:54,604     INFO  configuration: Labels:appended_input_dim has default value 0\n",
      "2019-04-16 23:19:54,605     INFO  configuration:     Data:buffer_size has    user value 200000\n",
      "2019-04-16 23:19:54,606     INFO  configuration: Data:train_file_number has    user value 440\n",
      "2019-04-16 23:19:54,607     INFO  configuration: Data:valid_file_number has    user value 6\n",
      "2019-04-16 23:19:54,608     INFO  configuration: Data:test_file_number has    user value 6\n",
      "2019-04-16 23:19:54,610     INFO  configuration:       Paths:log_path has    user value /home/gyzhang/merlin/egs/blz/s1/experiments/blz3/acoustic_model/log\n",
      "2019-04-16 23:19:54,611     INFO  configuration:       Paths:log_file has    user value /home/gyzhang/merlin/egs/blz/s1/experiments/blz3/acoustic_model/log/mylogfilename.log\n",
      "2019-04-16 23:19:54,612     INFO  configuration: Paths:log_config_file has    user value /home/gyzhang/merlin/egs/blz/s1/conf/logging_config.conf\n",
      "2019-04-16 23:19:54,613     INFO  configuration:           Paths:sptk has default value tools/bin/SPTK-3.9\n",
      "2019-04-16 23:19:54,614     INFO  configuration:       Paths:straight has default value tools/bin/straight\n",
      "2019-04-16 23:19:54,615     INFO  configuration:          Paths:world has default value tools/bin/WORLD\n",
      "2019-04-16 23:19:54,617     INFO  configuration:       Paths:glotthmm has default value tools/bin/glotthmm\n",
      "2019-04-16 23:19:54,618     INFO  configuration:       Paths:glottdnn has default value tools/bin/glottdnn\n",
      "2019-04-16 23:19:54,619     INFO  configuration:           Paths:hmpd has default value tools/bin/hmpd\n",
      "2019-04-16 23:19:54,620     INFO  configuration:       Paths:magphase has default value tools/bin/magphase/src\n",
      "2019-04-16 23:19:54,621     INFO  configuration: Architecture:network_type has default value RNN\n",
      "2019-04-16 23:19:54,622     INFO  configuration: Architecture:model_type has default value DNN\n",
      "2019-04-16 23:19:54,623     INFO  configuration: Architecture:hidden_layer_type has    user value ['RELU', 'RELU','RELU','RELU','RELU','RELU']\n",
      "2019-04-16 23:19:54,624     INFO  configuration: Architecture:output_layer_type has default value LINEAR\n",
      "2019-04-16 23:19:54,626     INFO  configuration: Architecture:sequential_training has    user value False\n",
      "2019-04-16 23:19:54,627     INFO  configuration: Architecture:rnn_batch_training has default value False\n",
      "2019-04-16 23:19:54,628     INFO  configuration: Architecture:dropout_rate has    user value 0.0\n",
      "2019-04-16 23:19:54,629     INFO  configuration: Architecture:switch_to_keras has    user value False\n",
      "2019-04-16 23:19:54,630     INFO  configuration: Architecture:switch_to_tensorflow has    user value True\n",
      "2019-04-16 23:19:54,631     INFO  configuration:  Architecture:scheme has default value stagewise\n",
      "2019-04-16 23:19:54,632     INFO  configuration: Architecture:index_to_project has default value 0\n",
      "2019-04-16 23:19:54,633     INFO  configuration: Architecture:projection_insize has default value 10000\n",
      "2019-04-16 23:19:54,634     INFO  configuration: Architecture:projection_outsize has default value 10\n",
      "2019-04-16 23:19:54,635     INFO  configuration: Architecture:initial_projection_distrib has default value gaussian\n",
      "2019-04-16 23:19:54,637     INFO  configuration: Architecture:projection_weights_output_dir has default value some_path\n",
      "2019-04-16 23:19:54,638     INFO  configuration: Architecture:layers_with_projection_input has default value [0]\n",
      "2019-04-16 23:19:54,639     INFO  configuration: Architecture:projection_learning_rate_scaling has default value 1.0\n",
      "2019-04-16 23:19:54,640     INFO  configuration: Architecture:training_epochs has    user value 1000\n",
      "2019-04-16 23:19:54,641     INFO  configuration: Architecture:optimizer has    user value sgd\n",
      "2019-04-16 23:19:54,642     INFO  configuration: Architecture:loss_function has default value mse\n",
      "2019-04-16 23:19:54,643     INFO  configuration: Architecture:model_file_name has    user value feed_forward_5_relu\n",
      "2019-04-16 23:19:54,644     INFO  configuration: Architecture:stateful has default value False\n",
      "2019-04-16 23:19:54,645     INFO  configuration: Architecture:use_high_batch_size has default value False\n",
      "2019-04-16 23:19:54,646     INFO  configuration: Architecture:training_algo has default value 1\n",
      "2019-04-16 23:19:54,647     INFO  configuration: Architecture:merge_size has default value 1\n",
      "2019-04-16 23:19:54,648     INFO  configuration: Architecture:seq_length has default value 200\n",
      "2019-04-16 23:19:54,649     INFO  configuration: Architecture:bucket_range has default value 100\n",
      "2019-04-16 23:19:54,650     INFO  configuration: Architecture:encoder_decoder has default value False\n",
      "2019-04-16 23:19:54,651     INFO  configuration: Architecture:attention has default value False\n",
      "2019-04-16 23:19:54,652     INFO  configuration:    Architecture:cbhg has default value False\n",
      "2019-04-16 23:19:54,653     INFO  configuration:    Data:shuffle_data has default value True\n",
      "2019-04-16 23:19:54,654     INFO  configuration:   Processes:NORMDATA has default value False\n",
      "2019-04-16 23:19:54,655     INFO  configuration: Processes:TRAINMODEL has default value False\n",
      "2019-04-16 23:19:54,656     INFO  configuration:  Processes:TESTMODEL has default value False\n",
      "2019-04-16 23:19:54,657     INFO  configuration: Architecture:learning_rate has    user value 0.001\n",
      "2019-04-16 23:19:54,658     INFO  configuration: Architecture:lr_decay has    user value -1\n",
      "2019-04-16 23:19:54,659     INFO  configuration: Architecture:L2_regularization has default value 1e-05\n",
      "2019-04-16 23:19:54,660     INFO  configuration: Architecture:L1_regularization has default value 0.0\n",
      "2019-04-16 23:19:54,661     INFO  configuration: Architecture:batch_size has    user value 256\n",
      "2019-04-16 23:19:54,662     INFO  configuration: Architecture:training_epochs has    user value 1000\n",
      "2019-04-16 23:19:54,663     INFO  configuration: Architecture:hidden_activation has default value tanh\n",
      "2019-04-16 23:19:54,664     INFO  configuration: Architecture:output_activation has default value linear\n",
      "2019-04-16 23:19:54,665     INFO  configuration: Architecture:hidden_layer_size has    user value [1024, 1024, 1024,1024,1024,1024]\n",
      "2019-04-16 23:19:54,666     INFO  configuration: Architecture:private_hidden_sizes has default value [1024]\n",
      "2019-04-16 23:19:54,667     INFO  configuration: Architecture:stream_weights has default value [1.0]\n",
      "2019-04-16 23:19:54,668     INFO  configuration: Architecture:private_l2_reg has default value 1e-05\n",
      "2019-04-16 23:19:54,669     INFO  configuration: Architecture:warmup_epoch has    user value 10\n",
      "2019-04-16 23:19:54,670     INFO  configuration: Architecture:warmup_momentum has default value 0.3\n",
      "2019-04-16 23:19:54,671     INFO  configuration: Architecture:momentum has default value 0.9\n",
      "2019-04-16 23:19:54,671     INFO  configuration: Architecture:warmup_epoch has    user value 10\n",
      "2019-04-16 23:19:54,672     INFO  configuration: Architecture:mdn_component has default value 1\n",
      "2019-04-16 23:19:54,673     INFO  configuration: Architecture:var_floor has default value 0.01\n",
      "2019-04-16 23:19:54,674     INFO  configuration: Architecture:beta_opt has default value False\n",
      "2019-04-16 23:19:54,675     INFO  configuration: Architecture:eff_sample_size has default value 0.8\n",
      "2019-04-16 23:19:54,676     INFO  configuration: Architecture:mean_log_det has default value -100.0\n",
      "2019-04-16 23:19:54,677     INFO  configuration: Architecture:start_from_trained_model has default value _\n",
      "2019-04-16 23:19:54,679     INFO  configuration: Architecture:use_rprop has default value 0\n",
      "2019-04-16 23:19:54,680     INFO  configuration: Architecture:use_lhuc has default value False\n"
     ]
    },
    {
     "name": "stderr",
     "output_type": "stream",
     "text": [
      "2019-04-16 23:19:54,681     INFO  configuration:          Outputs:mgc has    user value 60\n",
      "2019-04-16 23:19:54,682     INFO  configuration:         Outputs:dmgc has    user value 180\n",
      "2019-04-16 23:19:54,683     INFO  configuration:          Outputs:vuv has default value 1\n",
      "2019-04-16 23:19:54,684     INFO  configuration:          Outputs:lf0 has    user value 1\n",
      "2019-04-16 23:19:54,685     INFO  configuration:         Outputs:dlf0 has    user value 3\n",
      "2019-04-16 23:19:54,687     INFO  configuration:          Outputs:bap has    user value 1\n",
      "2019-04-16 23:19:54,688     INFO  configuration:         Outputs:dbap has    user value 3\n",
      "2019-04-16 23:19:54,689     INFO  configuration:          Outputs:cmp has default value 259\n",
      "2019-04-16 23:19:54,690     INFO  configuration:    Outputs:stepw_dim has default value 55\n",
      "2019-04-16 23:19:54,691     INFO  configuration:  Outputs:temp_sp_dim has default value 1025\n",
      "2019-04-16 23:19:54,692     INFO  configuration:   Outputs:seglf0_dim has default value 7\n",
      "2019-04-16 23:19:54,693     INFO  configuration:    Outputs:delta_win has default value [-0.5, 0.0, 0.5]\n",
      "2019-04-16 23:19:54,695     INFO  configuration:      Outputs:acc_win has default value [1.0, -2.0, 1.0]\n",
      "2019-04-16 23:19:54,696     INFO  configuration:      Outputs:do_MLPG has default value True\n",
      "2019-04-16 23:19:54,697     INFO  configuration:           Outputs:F0 has default value 1\n",
      "2019-04-16 23:19:54,698     INFO  configuration:          Outputs:dF0 has default value 3\n",
      "2019-04-16 23:19:54,699     INFO  configuration:         Outputs:Gain has default value 1\n",
      "2019-04-16 23:19:54,700     INFO  configuration:        Outputs:dGain has default value 3\n",
      "2019-04-16 23:19:54,701     INFO  configuration:          Outputs:HNR has default value 5\n",
      "2019-04-16 23:19:54,702     INFO  configuration:         Outputs:dHNR has default value 15\n",
      "2019-04-16 23:19:54,703     INFO  configuration:          Outputs:LSF has default value 30\n",
      "2019-04-16 23:19:54,704     INFO  configuration:         Outputs:dLSF has default value 90\n",
      "2019-04-16 23:19:54,705     INFO  configuration:    Outputs:LSFsource has default value 10\n",
      "2019-04-16 23:19:54,706     INFO  configuration:   Outputs:dLSFsource has default value 30\n",
      "2019-04-16 23:19:54,707     INFO  configuration:           Outputs:f0 has default value 1\n",
      "2019-04-16 23:19:54,708     INFO  configuration:          Outputs:df0 has default value 3\n",
      "2019-04-16 23:19:54,709     INFO  configuration:         Outputs:gain has default value 1\n",
      "2019-04-16 23:19:54,710     INFO  configuration:        Outputs:dgain has default value 3\n",
      "2019-04-16 23:19:54,711     INFO  configuration:          Outputs:hnr has default value 5\n",
      "2019-04-16 23:19:54,713     INFO  configuration:         Outputs:dhnr has default value 15\n",
      "2019-04-16 23:19:54,714     INFO  configuration:          Outputs:lsf has default value 30\n",
      "2019-04-16 23:19:54,715     INFO  configuration:         Outputs:dlsf has default value 90\n",
      "2019-04-16 23:19:54,716     INFO  configuration:         Outputs:slsf has default value 10\n",
      "2019-04-16 23:19:54,717     INFO  configuration:        Outputs:dslsf has default value 30\n",
      "2019-04-16 23:19:54,718     INFO  configuration:          Outputs:pdd has default value 25\n",
      "2019-04-16 23:19:54,719     INFO  configuration:         Outputs:dpdd has default value 75\n",
      "2019-04-16 23:19:54,720     INFO  configuration:          Outputs:mag has default value 60\n",
      "2019-04-16 23:19:54,721     INFO  configuration:         Outputs:dmag has default value 180\n",
      "2019-04-16 23:19:54,722     INFO  configuration:         Outputs:real has default value 45\n",
      "2019-04-16 23:19:54,723     INFO  configuration:        Outputs:dreal has default value 135\n",
      "2019-04-16 23:19:54,724     INFO  configuration:         Outputs:imag has default value 45\n",
      "2019-04-16 23:19:54,725     INFO  configuration:        Outputs:dimag has default value 135\n",
      "2019-04-16 23:19:54,726     INFO  configuration:      Outputs:seq_dur has default value 1\n",
      "2019-04-16 23:19:54,727     INFO  configuration: Outputs:remove_silence_from_dur has default value True\n",
      "2019-04-16 23:19:54,728     INFO  configuration:          Outputs:dur has default value 5\n",
      "2019-04-16 23:19:54,729     INFO  configuration: Outputs:dur_feature_type has default value numerical\n",
      "2019-04-16 23:19:54,730     INFO  configuration: Outputs:dur_unit_size has default value phoneme\n",
      "2019-04-16 23:19:54,731     INFO  configuration: Outputs:dur_feat_size has default value phoneme\n",
      "2019-04-16 23:19:54,732     INFO  configuration: Outputs:output_feature_normalisation has default value MVN\n",
      "2019-04-16 23:19:54,733     INFO  configuration: Streams:multistream_switch has default value False\n",
      "2019-04-16 23:19:54,734     INFO  configuration: Streams:output_features has    user value ['mgc', 'lf0', 'vuv', 'bap']\n",
      "2019-04-16 23:19:54,736     INFO  configuration: Streams:gen_wav_features has    user value ['mgc', 'lf0', 'bap']\n",
      "2019-04-16 23:19:54,737     INFO  configuration: Waveform:vocoder_type has    user value WORLD_PY\n",
      "2019-04-16 23:19:54,738     INFO  configuration:  Waveform:samplerate has    user value 16000\n",
      "2019-04-16 23:19:54,740     INFO  configuration: Waveform:framelength has    user value 256\n",
      "2019-04-16 23:19:54,741     INFO  configuration:  Waveform:frameshift has default value 5.0\n",
      "2019-04-16 23:19:54,743     INFO  configuration:      Waveform:sp_dim has default value 2049.0\n",
      "2019-04-16 23:19:54,744     INFO  configuration:    Waveform:fw_alpha has    user value 0.58\n",
      "2019-04-16 23:19:54,748     INFO  configuration: Waveform:postfilter_coef has default value 1.4\n",
      "2019-04-16 23:19:54,750     INFO  configuration: Waveform:minimum_phase_order has    user value 511\n",
      "2019-04-16 23:19:54,752     INFO  configuration:  Waveform:use_cep_ap has    user value True\n",
      "2019-04-16 23:19:54,756     INFO  configuration: Waveform:do_post_filtering has default value True\n",
      "2019-04-16 23:19:54,758     INFO  configuration:    Waveform:apply_GV has default value False\n",
      "2019-04-16 23:19:54,761     INFO  configuration: Waveform:test_synth_dir has    user value None\n",
      "2019-04-16 23:19:54,763     INFO  configuration: Waveform:use_magphase_pf has default value True\n",
      "2019-04-16 23:19:54,767     INFO  configuration: Processes:DurationModel has default value False\n",
      "2019-04-16 23:19:54,769     INFO  configuration: Processes:AcousticModel has    user value True\n",
      "2019-04-16 23:19:54,772     INFO  configuration: Processes:VoiceConversion has default value False\n",
      "2019-04-16 23:19:54,774     INFO  configuration: Processes:GenTestList has    user value False\n",
      "2019-04-16 23:19:54,775     INFO  configuration:    Processes:NORMLAB has    user value False\n",
      "2019-04-16 23:19:54,777     INFO  configuration:    Processes:MAKEDUR has default value False\n",
      "2019-04-16 23:19:54,780     INFO  configuration:    Processes:MAKECMP has    user value False\n",
      "2019-04-16 23:19:54,781     INFO  configuration:    Processes:NORMCMP has    user value False\n",
      "2019-04-16 23:19:54,783     INFO  configuration:   Processes:TRAINDNN has    user value True\n",
      "2019-04-16 23:19:54,786     INFO  configuration:     Processes:DNNGEN has    user value False\n",
      "2019-04-16 23:19:54,789     INFO  configuration:     Processes:GENWAV has    user value False\n",
      "2019-04-16 23:19:54,791     INFO  configuration:     Processes:CALMCD has    user value False\n",
      "2019-04-16 23:19:54,793     INFO  configuration:   Processes:NORMSTEP has default value False\n",
      "2019-04-16 23:19:54,795     INFO  configuration:   Processes:GENBNFEA has default value False\n",
      "2019-04-16 23:19:54,799     INFO  configuration:   Extensions:mgc_ext has default value .mgc\n",
      "2019-04-16 23:19:54,803     INFO  configuration:   Extensions:bap_ext has default value .bap\n",
      "2019-04-16 23:19:54,806     INFO  configuration:   Extensions:lf0_ext has default value .lf0\n",
      "2019-04-16 23:19:54,808     INFO  configuration:   Extensions:cmp_ext has default value .cmp\n",
      "2019-04-16 23:19:54,810     INFO  configuration:   Extensions:lab_ext has default value .lab\n",
      "2019-04-16 23:19:54,812     INFO  configuration:   Extensions:utt_ext has default value .utt\n",
      "2019-04-16 23:19:54,815     INFO  configuration: Extensions:stepw_ext has default value .stepw\n",
      "2019-04-16 23:19:54,820     INFO  configuration:    Extensions:sp_ext has default value .sp\n"
     ]
    },
    {
     "name": "stderr",
     "output_type": "stream",
     "text": [
      "2019-04-16 23:19:54,822     INFO  configuration:    Extensions:F0_ext has default value .F0\n",
      "2019-04-16 23:19:54,825     INFO  configuration:  Extensions:Gain_ext has default value .Gain\n",
      "2019-04-16 23:19:54,827     INFO  configuration:   Extensions:HNR_ext has default value .HNR\n",
      "2019-04-16 23:19:54,829     INFO  configuration:   Extensions:LSF_ext has default value .LSF\n",
      "2019-04-16 23:19:54,830     INFO  configuration: Extensions:LSFsource_ext has default value .LSFsource\n",
      "2019-04-16 23:19:54,831     INFO  configuration:    Extensions:f0_ext has default value .f0\n",
      "2019-04-16 23:19:54,832     INFO  configuration:  Extensions:gain_ext has default value .gain\n",
      "2019-04-16 23:19:54,833     INFO  configuration:   Extensions:hnr_ext has default value .hnr\n",
      "2019-04-16 23:19:54,834     INFO  configuration:   Extensions:lsf_ext has default value .lsf\n",
      "2019-04-16 23:19:54,835     INFO  configuration:  Extensions:slsf_ext has default value .slsf\n",
      "2019-04-16 23:19:54,836     INFO  configuration:   Extensions:pdd_ext has default value .pdd\n",
      "2019-04-16 23:19:54,837     INFO  configuration:   Extensions:mag_ext has default value .mag\n",
      "2019-04-16 23:19:54,838     INFO  configuration:  Extensions:real_ext has default value .real\n",
      "2019-04-16 23:19:54,839     INFO  configuration:  Extensions:imag_ext has default value .imag\n",
      "2019-04-16 23:19:54,840     INFO  configuration:   Extensions:dur_ext has default value .dur\n",
      "2019-04-16 23:19:55,081     INFO  configuration: model file: feed_forward_5_relu\n",
      "2019-04-16 23:19:55,125     INFO  configuration:   in_dimension: 60\n",
      "2019-04-16 23:19:55,126     INFO  configuration:   out_dimension : 180\n",
      "2019-04-16 23:19:55,127     INFO  configuration:   in_directory : /home/gyzhang/merlin/egs/blz/s1/experiments/blz3/acoustic_model/data/mgc\n",
      "2019-04-16 23:19:55,128     INFO  configuration:   in_dimension: 1\n",
      "2019-04-16 23:19:55,129     INFO  configuration:   out_dimension : 3\n",
      "2019-04-16 23:19:55,130     INFO  configuration:   in_directory : /home/gyzhang/merlin/egs/blz/s1/experiments/blz3/acoustic_model/data/lf0\n",
      "2019-04-16 23:19:55,131     INFO  configuration:   in_dimension: 0\n",
      "2019-04-16 23:19:55,132     INFO  configuration:   out_dimension : 1\n",
      "2019-04-16 23:19:55,133     INFO  configuration:   in_directory : \n",
      "2019-04-16 23:19:55,135     INFO  configuration:   in_dimension: 1\n",
      "2019-04-16 23:19:55,136     INFO  configuration:   out_dimension : 3\n",
      "2019-04-16 23:19:55,137     INFO  configuration:   in_directory : /home/gyzhang/merlin/egs/blz/s1/experiments/blz3/acoustic_model/data/bap\n",
      "2019-04-16 23:19:55,138     INFO  configuration: multistream dimensions: [187]\n",
      "2019-04-16 23:19:55,139     INFO  configuration: learning_rate : 0.001\n",
      "2019-04-16 23:19:55,141     INFO  configuration: l2_reg : 1e-05\n",
      "2019-04-16 23:19:55,142     INFO  configuration: l1_reg : 0.0\n",
      "2019-04-16 23:19:55,143     INFO  configuration: batch_size : 256\n",
      "2019-04-16 23:19:55,144     INFO  configuration: training_epochs : 1000\n",
      "2019-04-16 23:19:55,145     INFO  configuration: early_stop_epochs : 5\n",
      "2019-04-16 23:19:55,146     INFO  configuration: hidden_activation : tanh\n",
      "2019-04-16 23:19:55,147     INFO  configuration: output_activation : linear\n",
      "2019-04-16 23:19:55,148     INFO  configuration: do_pretraining : False\n",
      "2019-04-16 23:19:55,149     INFO  configuration: pretraining_epochs : 10\n",
      "2019-04-16 23:19:55,150     INFO  configuration: pretraining_lr : 0.0001\n",
      "2019-04-16 23:19:55,151     INFO  configuration: warmup_momentum : 0.3\n",
      "2019-04-16 23:19:55,152     INFO  configuration: momentum : 0.9\n",
      "2019-04-16 23:19:55,153     INFO  configuration: warmup_epoch : 10\n",
      "2019-04-16 23:19:55,154     INFO  configuration: hidden_layer_size : [1024, 1024, 1024, 1024, 1024, 1024]\n",
      "2019-04-16 23:19:55,156     INFO  configuration: use_rprop : 0\n",
      "2019-04-16 23:19:55,157     INFO  configuration: model_type : DNN\n",
      "2019-04-16 23:19:55,158     INFO  configuration: hidden_layer_type : ['relu', 'relu', 'relu', 'relu', 'relu', 'relu']\n",
      "2019-04-16 23:19:55,159     INFO  configuration: index_to_project : 0\n",
      "2019-04-16 23:19:55,161     INFO  configuration: projection_insize : 10000\n",
      "2019-04-16 23:19:55,162     INFO  configuration: projection_outsize : 10\n",
      "2019-04-16 23:19:55,163     INFO  configuration: initial_projection_distrib : gaussian\n",
      "2019-04-16 23:19:55,164     INFO  configuration: layers_with_projection_input : [0]\n",
      "2019-04-16 23:19:55,166     INFO  configuration: projection_learning_rate_scaling : 1.0\n",
      "2019-04-16 23:19:55,167     INFO  configuration: sequential_training : False\n",
      "2019-04-16 23:19:55,168     INFO  configuration: dropout_rate : 0.0\n"
     ]
    }
   ],
   "source": [
    "cfg = configuration()\n",
    "    # set up logging to use our custom class\n",
    "    # logging.setLoggerClass(LoggerPlotter)\n",
    "    # get a logger for this main function\n",
    "logger = logging.getLogger(\"main\")\n",
    "config_file = \"../../egs/blz/s1/conf/acoustic_blz3.conf\"\n",
    "config_file = os.path.abspath(config_file)\n",
    "cfg.configure(config_file,False)\n",
    "file_id_list = read_file_list(cfg.file_id_scp)\n",
    "in_file_list_dict = {}\n",
    "io_funcs = BinaryIOCollection()\n",
    "for feature_name in list(cfg.in_dir_dict.keys()):\n",
    "    in_file_list_dict[feature_name] = prepare_file_path_list(file_id_list, cfg.in_dir_dict[feature_name],\n",
    "                                                             cfg.file_extension_dict[feature_name], False)"
   ]
  },
  {
   "cell_type": "code",
   "execution_count": null,
   "metadata": {
    "collapsed": true
   },
   "outputs": [],
   "source": [
    "mean_dict=dict()\n",
    "file_dict=dict()"
   ]
  },
  {
   "cell_type": "code",
   "execution_count": 3,
   "metadata": {
    "collapsed": true
   },
   "outputs": [],
   "source": [
    "global_mean_vector=np.zeros((1, 62))\n",
    "global_std_vector=np.zeros((1,62))\n",
    "all_frame_number = 0\n",
    "all_feature_list=[]\n",
    "all_file_mean_list=[]\n",
    "all_file_95_list=[]\n",
    "all_file_5_list=[]\n",
    "# feature_dict=dict()\n",
    "mgc_feature_list = []\n",
    "for num, file_id in enumerate(file_id_list):\n",
    "    # file_dict[file_id]=[]\n",
    "    mean_feature_list=[]\n",
    "    p95_list=[]\n",
    "    p5_list=[]\n",
    "    for feature_name in list(cfg.in_dir_dict.keys()):\n",
    "        in_file_name = in_file_list_dict[feature_name][num]\n",
    "        in_feature_dim = cfg.in_dimension_dict[feature_name]\n",
    "        logger.info(\"preprocessing \")\n",
    "        features, frame_number = io_funcs.load_binary_file_frame(in_file_name, in_feature_dim)\n",
    "        if feature_name==\"lf0\":\n",
    "            features=features[features>0]\n",
    "            features=np.reshape(features,[-1,1])\n",
    "        if feature_name==\"mgc\":\n",
    "            mgc_feature_list.append(features)\n",
    "            # pdb.set_trace()\n",
    "        p5_list.extend(np.percentile(features,5,axis=0))\n",
    "        p95_list.extend(np.percentile(features,95,axis=0))\n",
    "        mean_feature_list.extend(np.mean(features,0))\n",
    "        # feature_dict[feature_name]=np.mean(features,1)\n",
    "        # file_dict[file_id].append(feature_dict)\n",
    "    all_file_mean_list.append(mean_feature_list)\n",
    "    all_file_95_list.append(p95_list)\n",
    "    all_file_5_list.append(p5_list)\n",
    "mgc_features=np.concatenate(mgc_feature_list,axis=0)\n",
    "global_mean_vector = np.mean(mgc_features,axis=0)\n",
    "global_std_vector = np.std(mgc_features,axis=0)\n",
    "global_p5_vector=np.percentile(mgc_features,5,axis=0)\n",
    "global_p95_vector=np.percentile(mgc_features,95,axis=0)\n",
    "all_file_mean_array=np.array(all_file_mean_list)\n",
    "all_file_5_array=np.array(all_file_5_list)\n",
    "all_file_95_array=np.array(all_file_95_list)"
   ]
  },
  {
   "cell_type": "markdown",
   "metadata": {},
   "source": [
    "% **shows feature**\n",
    "utterance's mgc features"
   ]
  },
  {
   "cell_type": "code",
   "execution_count": 4,
   "metadata": {},
   "outputs": [
    {
     "name": "stdout",
     "output_type": "stream",
     "text": [
      "36 3.2477050117280943 15 0.4676430185826713 1.0039606661901568 100039\n",
      "47 3.2401607936982586 6 0.8532535582060226 1.1809039141796915 100050\n",
      "47 3.301623120553555 7 -1.1856131269754635 -0.8279163798662482 100050\n",
      "61 3.218692326947174 15 0.3617345538176995 1.0672085605112802 100064\n",
      "64 3.2657596850990713 13 0.9439270385608216 1.0234956185444817 100068\n",
      "64 3.2261282848273765 14 -1.167640792622456 -0.6607967424812511 100068\n",
      "102 3.2413252733364155 22 0.40361146350529864 1.1370057031608358 100107\n",
      "112 3.163273732935558 22 0.21663250100413012 1.089898717200815 100117\n",
      "116 3.2303332508164053 11 1.032658611365739 0.5875315648007668 100121\n",
      "126 3.3302566052441467 13 0.6905633354963914 1.019434092691556 100132\n",
      "162 3.31106973010736 5 0.983844417955281 1.0618002239433568 100172\n",
      "165 3.2504610337536124 8 1.1440160895812412 0.6628017576920804 100175\n",
      "166 3.272429978616602 3 -0.9947869268452982 -1.0352933810092608 100176\n",
      "171 3.294257841286415 8 -1.0927398779710396 -0.606043579467758 100181\n",
      "176 3.2799251158518747 5 0.8899577940050681 1.162937108407729 100187\n",
      "242 3.3934873170254054 3 -1.1497695869150173 -0.9757646126947833 100256\n",
      "290 3.2423257778312222 22 0.32268135392294206 1.07986075648891 100306\n",
      "307 3.2327120924997486 6 0.9835852213048218 1.512645811962477 100323\n",
      "307 3.330387390260816 9 0.7960219094747529 1.2180138215708065 100323\n",
      "336 3.293097892483567 3 -1.2274778187958815 -1.0696294461167457 100353\n",
      "366 3.2364261881068157 7 -0.9830558725484795 -1.0497771775419436 100385\n",
      "397 3.3292027612317154 20 -1.0018913201000121 -0.5489148621410159 100417\n",
      "398 3.344232064441237 3 -1.1875785274693278 -0.9313608722973847 100418\n",
      "403 3.34598406814246 3 -1.1288889449538442 -0.9302142129102314 100423\n"
     ]
    }
   ],
   "source": [
    "for utterance_index in range(len(file_id_list)):\n",
    "    for dim_index in range(60):\n",
    "        in_file_name = in_file_list_dict['mgc'][utterance_index]\n",
    "        in_feature_dim = cfg.in_dimension_dict['mgc']\n",
    "        features, frame_number = io_funcs.load_binary_file_frame(in_file_name, in_feature_dim)\n",
    "        features = features[:,dim_index]\n",
    "        mean=np.mean(features)\n",
    "        std=np.std(features)\n",
    "        p5=np.percentile(features,5)\n",
    "        p95=np.percentile(features,95)\n",
    "      #  print((p95-p5)/std,(p95-p5)/global_std_vector[dim_index])\n",
    "        right_side = (p95-mean)/std-(p95-global_mean_vector[dim_index])/global_std_vector[dim_index]\n",
    "        left_side = (p5-mean)/std-(p5-global_mean_vector[dim_index])/global_std_vector[dim_index]\n",
    "        intervel = (p95-p5)/std-(p95-p5)/global_std_vector[dim_index]\n",
    "        if abs(right_side)>1 or  abs(left_side)>1:\n",
    "            print(utterance_index,(p95-p5)/std,dim_index,right_side,left_side,file_id_list[utterance_index])\n",
    "        if abs(intervel)>1:\n",
    "            print(utterance_index,intervel,file_id_list[utterance_index])\n",
    "      #  print(std,global_std_vector[dim_index],mean,global_mean_vector[dim_index])"
   ]
  },
  {
   "cell_type": "code",
   "execution_count": 12,
   "metadata": {},
   "outputs": [
    {
     "data": {
      "text/plain": [
       "'100117'"
      ]
     },
     "execution_count": 12,
     "metadata": {},
     "output_type": "execute_result"
    }
   ],
   "source": [
    "file_id_list[112]"
   ]
  },
  {
   "cell_type": "code",
   "execution_count": 6,
   "metadata": {},
   "outputs": [
    {
     "data": {
      "text/plain": [
       "array([-5.371039  ,  1.7104896 ,  0.15252385,  0.20157169,  0.1266414 ,\n",
       "        0.22784942,  0.04235072,  0.04974031, -0.0656646 ,  0.06131163,\n",
       "       -0.23542984,  0.24174117, -0.17643562,  0.07422392, -0.05731717,\n",
       "        0.0297751 , -0.03881345,  0.02696932, -0.06133305,  0.07005785,\n",
       "       -0.09373155,  0.08294727, -0.09484902,  0.05836009, -0.07114811,\n",
       "        0.04768491, -0.04852841,  0.06179808, -0.07179679,  0.06587469,\n",
       "       -0.05206925,  0.05720416, -0.0441705 ,  0.06519852, -0.05018669,\n",
       "        0.05490638, -0.0533908 ,  0.05505326, -0.0464406 ,  0.04896504,\n",
       "       -0.04478316,  0.04003001, -0.03804275,  0.03899866, -0.04049207,\n",
       "        0.04126386, -0.03965253,  0.03458681, -0.03177643,  0.02886853,\n",
       "       -0.02599358,  0.0251983 , -0.02670573,  0.02762241, -0.02835807,\n",
       "        0.02850229, -0.02781359,  0.02531525, -0.02235571,  0.01872815],\n",
       "      dtype=float32)"
      ]
     },
     "execution_count": 6,
     "metadata": {},
     "output_type": "execute_result"
    }
   ],
   "source": [
    "global_mean_vector"
   ]
  },
  {
   "cell_type": "code",
   "execution_count": 7,
   "metadata": {},
   "outputs": [
    {
     "data": {
      "text/plain": [
       "array([-5.4769564 ,  1.636708  ,  0.31434533,  0.01890735,  0.13687642,\n",
       "        0.24861178,  0.01018146, -0.0074994 , -0.03746642,  0.04517589],\n",
       "      dtype=float32)"
      ]
     },
     "execution_count": 7,
     "metadata": {},
     "output_type": "execute_result"
    }
   ],
   "source": [
    "all_file_mean_array[244,0:10]"
   ]
  },
  {
   "cell_type": "code",
   "execution_count": 8,
   "metadata": {},
   "outputs": [
    {
     "data": {
      "text/plain": [
       "array([1.6443429 , 0.02213725], dtype=float32)"
      ]
     },
     "execution_count": 8,
     "metadata": {},
     "output_type": "execute_result"
    }
   ],
   "source": [
    "all_file_mean_array[0,1:3]"
   ]
  },
  {
   "cell_type": "code",
   "execution_count": null,
   "metadata": {
    "collapsed": true
   },
   "outputs": [],
   "source": [
    "utterance_index=4\n",
    "dim_index = 56\n",
    "in_file_name = in_file_list_dict['mgc'][utterance_index]\n",
    "in_feature_dim = cfg.in_dimension_dict['mgc']\n",
    "features, frame_number = io_funcs.load_binary_file_frame(in_file_name, in_feature_dim)"
   ]
  },
  {
   "cell_type": "markdown",
   "metadata": {},
   "source": [
    "% frist dimension of mgc"
   ]
  },
  {
   "cell_type": "code",
   "execution_count": null,
   "metadata": {
    "collapsed": true
   },
   "outputs": [],
   "source": [
    "features = features[:,dim_index]\n",
    "mean=np.mean(features)\n",
    "std=np.std(features)\n",
    "p5=np.percentile(features,5)\n",
    "p95=np.percentile(features,95)"
   ]
  },
  {
   "cell_type": "code",
   "execution_count": null,
   "metadata": {},
   "outputs": [],
   "source": [
    "print(std,mean,global_std_vector[dim_index],global_mean_vector[dim_index])"
   ]
  },
  {
   "cell_type": "code",
   "execution_count": null,
   "metadata": {},
   "outputs": [],
   "source": [
    "n, bins, patches = plt.hist(x=(features-mean)/std, bins=\"auto\", color='#0504aa',\n",
    "                            alpha=0.7, rwidth=0.85)\n",
    "plt.show()"
   ]
  },
  {
   "cell_type": "code",
   "execution_count": null,
   "metadata": {},
   "outputs": [],
   "source": [
    "n, bins, patches = plt.hist(x=mgc_features[:,56], bins=\"auto\", color='#0504aa', alpha=0.7, rwidth=0.85)\n",
    "plt.title('57th dimension of MC feature')"
   ]
  },
  {
   "cell_type": "code",
   "execution_count": null,
   "metadata": {},
   "outputs": [],
   "source": [
    "plt.show()"
   ]
  },
  {
   "cell_type": "code",
   "execution_count": null,
   "metadata": {
    "collapsed": true
   },
   "outputs": [],
   "source": []
  }
 ],
 "metadata": {
  "kernelspec": {
   "display_name": "Python 3",
   "language": "python",
   "name": "python3"
  },
  "language_info": {
   "codemirror_mode": {
    "name": "ipython",
    "version": 3
   },
   "file_extension": ".py",
   "mimetype": "text/x-python",
   "name": "python",
   "nbconvert_exporter": "python",
   "pygments_lexer": "ipython3",
   "version": "3.6.2"
  }
 },
 "nbformat": 4,
 "nbformat_minor": 1
}
