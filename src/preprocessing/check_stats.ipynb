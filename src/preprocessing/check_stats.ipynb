{
 "cells": [
  {
   "cell_type": "code",
   "execution_count": null,
   "metadata": {
    "collapsed": true
   },
   "outputs": [],
   "source": [
    "import pickle\n",
    "import gzip\n",
    "import os, sys, errno\n",
    "sys.path.insert(0, '../configuration')\n",
    "sys.path.insert(0, '../utils')\n",
    "sys.path.insert(0,\"../io_funcs\")\n",
    "from binary_io import BinaryIOCollection\n",
    "from configuration import configuration\n",
    "from utils import read_file_list, prepare_file_path_list\n",
    "import time\n",
    "import math\n",
    "\n",
    "import subprocess\n",
    "import logging\n",
    "import numpy\n",
    "#import gnumpy as gnp\n",
    "# we need to explicitly import this in some cases, not sure why this doesn't get imported with numpy itself\n",
    "import numpy.distutils.__config__\n",
    "# and only after that can we import theano\n",
    "import pdb"
   ]
  }
 ],
 "metadata": {
  "kernelspec": {
   "display_name": "Python 2",
   "language": "python",
   "name": "python2"
  },
  "language_info": {
   "codemirror_mode": {
    "name": "ipython",
    "version": 2
   },
   "file_extension": ".py",
   "mimetype": "text/x-python",
   "name": "python",
   "nbconvert_exporter": "python",
   "pygments_lexer": "ipython2",
   "version": "2.7.6"
  }
 },
 "nbformat": 4,
 "nbformat_minor": 0
}
